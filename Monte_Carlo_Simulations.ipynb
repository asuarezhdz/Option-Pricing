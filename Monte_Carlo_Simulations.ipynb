{
  "nbformat": 4,
  "nbformat_minor": 0,
  "metadata": {
    "colab": {
      "name": "Monte_Carlo_Simulations.ipynb",
      "provenance": []
    },
    "kernelspec": {
      "name": "python3",
      "display_name": "Python 3"
    },
    "language_info": {
      "name": "python"
    }
  },
  "cells": [
    {
      "cell_type": "code",
      "execution_count": null,
      "metadata": {
        "id": "Y7ICc0hiVZOD"
      },
      "outputs": [],
      "source": [
        "# Import packages\n",
        "import numpy as np\n",
        "import pandas as pd\n",
        "import matplotlib.pyplot as plt \n",
        "import math\n",
        "import scipy.stats as ss\n",
        "import random\n",
        "import time"
      ]
    },
    {
      "cell_type": "code",
      "source": [
        "# Set parameters\n",
        "h = 50 # number of runs of simulation\n",
        "m = 1000 # number of simulations\n",
        "n = 100 # number of steps\n",
        "T = 1 # time to maturity\n",
        "nu = 0.8 # vol of vol\n",
        "S0 = 100 # stock price at T=0\n",
        "K = 105 # strike price\n",
        "r = 0 # interest rate\n",
        "Sigma0 = 0.4 # starting vol\n",
        "rho = 0 # correlation or not'"
      ],
      "metadata": {
        "id": "hZOhKPdpVxR5"
      },
      "execution_count": null,
      "outputs": []
    },
    {
      "cell_type": "markdown",
      "source": [
        "Black-Scholes Function"
      ],
      "metadata": {
        "id": "a5_cqqm4V38y"
      }
    },
    {
      "cell_type": "code",
      "source": [
        "def d1(S0, K, r, sigma, T):\n",
        "    return (np.log(S0/K) + (r + sigma**2 / 2) * T)/(sigma * np.sqrt(T))\n",
        " \n",
        "def d2(S0, K, r, sigma, T):\n",
        "    return (np.log(S0 / K) + (r - sigma**2 / 2) * T) / (sigma * np.sqrt(T))\n",
        " \n",
        "def BlackScholes(S0, K, r, sigma, T):\n",
        "    return S0*ss.norm.cdf(d1(S0, K, r, sigma, T)) - K * np.exp(-r * T) * ss.norm.cdf(d2(S0, K, r, sigma, T))"
      ],
      "metadata": {
        "id": "5yd7d7u9V9YU"
      },
      "execution_count": null,
      "outputs": []
    },
    {
      "cell_type": "markdown",
      "source": [
        "**Pricing Vanilla Options using SABR Model**"
      ],
      "metadata": {
        "id": "5O6N_05EV37r"
      }
    },
    {
      "cell_type": "markdown",
      "source": [
        "Crude Monte Carlo Function"
      ],
      "metadata": {
        "id": "0VHHvcLWVfXC"
      }
    },
    {
      "cell_type": "code",
      "source": [
        "def CrudeMC(h,m,n,T,nu,S0,K,r,Sigma0,rho):\n",
        "    vMcSabr = np.zeros([h]) # vector to store mean of each sim\n",
        "    for p in range(0,h):\n",
        "        vPayoffs = np.zeros([m]) # vector to store vol of each sim\n",
        "        vFinSk = np.zeros([m]) # vector to store final value of each sim\n",
        "        for j in range (0,m):  # start loop doing 1000 sims\n",
        "            vW = np.random.normal(0,1,n) # vector of random draws (0, 1)\n",
        "            vZ = np.random.normal(0,1,n) # vector of random draws (0, 1)\n",
        "            vSigma = np.zeros([n+1]) # vector to store vol\n",
        "            vSk = np.zeros([n+1]) # vector to store vol\n",
        "            vBM1 = np.zeros([n+1])\n",
        "            vSigma[0] = Sigma0 # first element of vector\n",
        "            vSk[0] = S0\n",
        "            for i in range (0,n): # start loop for 100 steps\n",
        "                vBM1[i+1] = vBM1[i]+vW[i]*np.sqrt(T/n)\n",
        "                vSigma[i+1] = vSigma[0]*np.exp(nu*vBM1[i]-0.5*(nu**2)*T*(i+1)/n) # SABR sigma\n",
        "                vSk[i+1] = vSk[i]+vSigma[i]*vSk[i]*(rho*vW[i]*np.sqrt(T/n)+np.sqrt(1-rho**2)*vZ[i]*np.sqrt(T/n)) #calculate stock prices\n",
        "            vFinSk[j] = vSk[-1] # extract final observation of sim\n",
        "            vPayoffs[j] = max(vFinSk[j]-K, 0) # payoff using final price of sim\n",
        "        vMcSabr[p] = np.mean(vPayoffs)\n",
        "    return(vMcSabr)"
      ],
      "metadata": {
        "id": "rhSzTrU4Vkq2"
      },
      "execution_count": null,
      "outputs": []
    },
    {
      "cell_type": "markdown",
      "source": [
        "Conditional Monte Carlo Function"
      ],
      "metadata": {
        "id": "hObfGBxRWemO"
      }
    },
    {
      "cell_type": "code",
      "source": [
        "# For rho != 0\n",
        "def ConditionalMCRho(h,m,n,T,nu,S0,K,r,Sigma0,rho):\n",
        "    vCMCBS = np.zeros([h])\n",
        "    for p in range(0,h):\n",
        "        vBS = np.zeros([m])\n",
        "        for j in range(0,m):\n",
        "            vW = np.random.normal(0,1,n)\n",
        "            vBM = np.zeros([n+1])\n",
        "            vSigma = np.zeros([n+1])\n",
        "            vSigma[0] = Sigma0\n",
        "            vBM[0] = 0\n",
        "            iIntegral2 = 0\n",
        "            for i in range(0, n):\n",
        "                vBM[i+1] = vBM[i]+vW[i]*np.sqrt(T/n)\n",
        "                vSigma[i+1] = vSigma[0]*np.exp((-0.5*nu**2)*(T*(i+1)/n)+nu*vBM[i+1])\n",
        "                iIntegral2 = iIntegral2+vSigma[i]*(vW[i]*np.sqrt(T/n))\n",
        "            iVol = np.sqrt(np.mean(vSigma**2))\n",
        "            iIntegral = np.sum(vSigma**2)*T/n\n",
        "            iS0Prime = S0*np.exp(-0.5*rho**2*iIntegral+rho*iIntegral2)\n",
        "            iVol2 = np.sqrt(1-rho**2)*iVol\n",
        "            iBS = BlackScholes(iS0Prime,K,r,iVol2,T)\n",
        "            vBS[j] = iBS\n",
        "        vCMCBS[p] = np.mean(vBS)\n",
        "    return(vCMCBS)"
      ],
      "metadata": {
        "id": "nxFf8ISPWivs"
      },
      "execution_count": null,
      "outputs": []
    },
    {
      "cell_type": "code",
      "source": [
        "# For rho = 0\n",
        "def ConditionalMC(h,m,n,T,nu,S0,K,r,Sigma0):\n",
        "    vCmcSabr = np.zeros([h]) # vector to store mean of each sim\n",
        "    for p in range(0,h):\n",
        "        vCmcSabrSim = np.zeros([m]) # vector to store vol of each sim\n",
        "        for j in range (0,m):  # start loop doing 1000 sims\n",
        "            vW = np.random.normal(0,1,n) # vector of random draws (0, 1)\n",
        "            vSigma = np.zeros([n+1]) # vector to store vol\n",
        "            iIntegral = 0\n",
        "            vBM = np.zeros([n+1])\n",
        "            vSigma[0] = Sigma0 # first element of vector\n",
        "            for i in range (0,n): # start loop for 100 steps\n",
        "                vBM[i+1] = vBM[i]+vW[i]*np.sqrt(T/n) # only one Bmotion\n",
        "                vSigma[i+1] = vSigma[0]*np.exp(nu*vBM[i]-0.5*(nu**2)*T*(i+1)/n) # SABR sigma\n",
        "                iIntegral = iIntegral+(T/n)*((vSigma[i+1])**2) # calculate integral for whole sim\n",
        "            vCmcSabrSim[j] = BlackScholes(S0, K, r, np.sqrt(iIntegral/T), T) # calculate BS price using SABR vol\n",
        "        vCmcSabr[p] = np.mean(vCmcSabrSim)\n",
        "    return(vCmcSabr)"
      ],
      "metadata": {
        "id": "sxaeo_t8WyjY"
      },
      "execution_count": null,
      "outputs": []
    },
    {
      "cell_type": "markdown",
      "source": [
        "Conditional Monte Caro with Antithetic Variates"
      ],
      "metadata": {
        "id": "WzuJBevaW3t5"
      }
    },
    {
      "cell_type": "code",
      "source": [
        "# For rho != 0\n",
        "def AntCMCRho(h,m,n,T,nu,S0,K,r,Sigma0,rho):\n",
        "    vCMCBS = np.zeros([h])\n",
        "    vCMCBS_minus = np.zeros([h])\n",
        "    vCMCA = np.zeros([h])\n",
        "    for p in range(0,h):\n",
        "        vBS = np.zeros([m])\n",
        "        vBS_minus = np.zeros([m])\n",
        "        for j in range(0,m):\n",
        "            vW = np.random.normal(0,1,n)\n",
        "            vW_minus = -vW\n",
        "            vBM = np.zeros([n+1])\n",
        "            vBMminus = np.zeros([n+1])\n",
        "            vSigma = np.zeros([n+1])\n",
        "            vSigma[0] = Sigma0\n",
        "            vSigma_minus = np.zeros([n+1])\n",
        "            iIntegral2 = 0\n",
        "            iIntegral2_minus = 0\n",
        "            for i in range(0, n):\n",
        "                vBM[i+1] = vBM[i]+vW[i]*np.sqrt(T/n)\n",
        "                vBMminus[i+1] = -vBM[i+1]\n",
        "                vSigma[i+1] = vSigma[0]*np.exp((-0.5*nu**2)*(T*(i+1)/n)+nu*vBM[i+1])\n",
        "                vSigma_minus[i+1] = vSigma[0]*np.exp(nu*vBMminus[i+1]-0.5*(nu**2)*T*(i+1)/n)\n",
        "                iIntegral2 = iIntegral2+vSigma[i]*(vW[i]*np.sqrt(T/n))\n",
        "                iIntegral2_minus = iIntegral2_minus+vSigma_minus[i]*(vW_minus[i]*np.sqrt(T/n))\n",
        "            iVol = np.sqrt(np.mean(vSigma**2))\n",
        "            iVol_minus = np.sqrt(np.mean(vSigma_minus**2))\n",
        "            iIntegral = np.sum(vSigma**2)*T/n\n",
        "            iIntegral_minus = np.sum(vSigma_minus**2)*T/n\n",
        "            iS0Prime = S0*np.exp(-0.5*rho**2*iIntegral+rho*iIntegral2)\n",
        "            iS0Prime_minus = S0*np.exp(-0.5*rho**2*iIntegral_minus+rho*iIntegral2_minus)\n",
        "            iVol2 = np.sqrt(1-rho**2)*iVol\n",
        "            iVol2_minus = np.sqrt(1-rho**2)*iVol_minus\n",
        "            iBS = BlackScholes(iS0Prime,K,r,iVol2,T)\n",
        "            iBS_minus = BlackScholes(iS0Prime_minus,K,r,iVol2_minus,T)\n",
        "            vBS[j] = iBS\n",
        "            vBS_minus[j] = iBS_minus\n",
        "        vCMCBS[p] = np.mean(vBS)\n",
        "        vCMCBS_minus[p] = np.mean(vBS_minus)\n",
        "        vCMCA[p] = (vCMCBS[p]+vCMCBS_minus[p])/2\n",
        "    return(vCMCA)"
      ],
      "metadata": {
        "id": "C_HXYclGW_fp"
      },
      "execution_count": null,
      "outputs": []
    },
    {
      "cell_type": "code",
      "source": [
        "# For rho = 0\n",
        "def AntCMC(h,m,n,T,nu,S0,K,r,Sigma0):\n",
        "    vCmcSabr = np.zeros([h])\n",
        "    vCmcSabr_minus = np.zeros([h])# vector to store mean of each sim\n",
        "    vCMCA  = np.zeros([h])\n",
        "    for p in range(0,h):\n",
        "        vCmcSabrSim = np.zeros([m])\n",
        "        vCmcSabrSim_minus = np.zeros([m]) # vector to store vol of each sim\n",
        "        for j in range (0,m):  # start loop doing 1000 sims\n",
        "            vW = np.random.normal(0,1,n) # vector of random draws (0, 1)\n",
        "            vSigma = np.zeros([n+1]) # vector to store vol\n",
        "            vSigma_minus = np.zeros([n+1])\n",
        "            iIntegral = 0\n",
        "            iIntegral_minus = 0\n",
        "            vBM = np.zeros([n+1])\n",
        "            vBMminus = np.zeros([n+1])\n",
        "            vSigma[0] = Sigma0 # first element of vector\n",
        "            for i in range (0,n): # start loop for 100 steps\n",
        "                vBM[i+1] = vBM[i]+vW[i]*np.sqrt(T/n) # only one Bmotion\n",
        "                vBMminus[i+1] = -vBM[i+1]\n",
        "                vSigma[i+1] = vSigma[0]*np.exp(nu*vBM[i]-0.5*(nu**2)*T*(i+1)/n) # SABR sigma\n",
        "                vSigma_minus[i+1] = vSigma[0]*np.exp(nu*vBMminus[i]-0.5*(nu**2)*T*(i+1)/n)\n",
        "                iIntegral = iIntegral+(T/n)*((vSigma[i+1])**2)\n",
        "                iIntegral_minus = iIntegral_minus+(T/n)*((vSigma_minus[i+1])**2) # calculate integral for whole sim\n",
        "            vCmcSabrSim[j] = BlackScholes(S0, K, r, np.sqrt(iIntegral/T), T)\n",
        "            vCmcSabrSim_minus[j] = BlackScholes(S0, K, r, np.sqrt(iIntegral_minus/T), T) # calculate BS price using SABR vol\n",
        "        vCmcSabr[p] = np.mean(vCmcSabrSim)\n",
        "        vCmcSabr_minus[p] = np.mean(vCmcSabrSim_minus)\n",
        "        vCMCA[p] = (vCmcSabr[p]+vCmcSabr_minus[p])/2\n",
        "    return(vCMCA)"
      ],
      "metadata": {
        "id": "24cgLL2AXN8k"
      },
      "execution_count": null,
      "outputs": []
    },
    {
      "cell_type": "markdown",
      "source": [
        "Crude Monte Carlo with Control Variates"
      ],
      "metadata": {
        "id": "6uokP7A8XVVX"
      }
    },
    {
      "cell_type": "code",
      "source": [
        "def CrudeMCCVar(h,m,n,T,nu,S0,K,r,Sigma0,rho):\n",
        "    vMCControl = np.zeros([h]) # vector to store mean of each sim\n",
        "    for p in range(0,h):\n",
        "        vPayoffs = np.zeros([m]) # vector to store vol of each sim\n",
        "        vFinSk = np.zeros([m]) # vector to store final value of each sim\n",
        "        for j in range (0,m):  # start loop doing 1000 sims\n",
        "            vW = np.random.normal(0,1,n) # vector of random draws (0, 1)\n",
        "            vZ = np.random.normal(0,1,n) # vector of random draws (0, 1)\n",
        "            vSigma = np.zeros([n+1]) # vector to store vol\n",
        "            vSk = np.zeros([n+1]) # vector to store vol\n",
        "            vBM1 = np.zeros([n+1])\n",
        "            vSigma[0] = Sigma0 # first element of vector\n",
        "            vSk[0] = S0\n",
        "            for i in range (0,n): # start loop for 100 steps\n",
        "                vBM1[i+1] = vBM1[i]+vW[i]*np.sqrt(T/n)\n",
        "                vSigma[i+1] = vSigma[0]*np.exp(nu*vBM1[i]-0.5*(nu**2)*T*(i+1)/n) # SABR sigma\n",
        "                vSk[i+1] = vSk[i]+vSigma[i]*vSk[i]*(rho*vW[i]*np.sqrt(T/n)+np.sqrt(1-rho**2)*np.sqrt(T/n)*vZ[i]) #calculate stock prices\n",
        "            vFinSk[j] = vSk[-1]\n",
        "            vPayoffs[j] = max(vFinSk[j]-K, 0) # payoff using final price of sim\n",
        "            iCov = -np.cov(vPayoffs,vFinSk)[0][1]/np.var(vFinSk)\n",
        "        vMCControl[p] = np.mean(vPayoffs+iCov*(vFinSk - S0))\n",
        "    return(vMCControl)"
      ],
      "metadata": {
        "id": "Q6kD7CkUXZ-e"
      },
      "execution_count": null,
      "outputs": []
    },
    {
      "cell_type": "markdown",
      "source": [
        "Create Dataframe to Store Results"
      ],
      "metadata": {
        "id": "C626KFrJXwlK"
      }
    },
    {
      "cell_type": "code",
      "source": [
        "# Rho = 0 \n",
        "\n",
        "# Crude MC\n",
        "starttime = time.time()\n",
        "CrudeMC = CrudeMC(h,m,n,T,nu,S0,K,r,Sigma0,0)\n",
        "totaltimeCrude = round((time.time() - starttime), 2)\n",
        "\n",
        "# Conditional MC\n",
        "starttime = time.time()\n",
        "CondiMC = ConditionalMC(h,m,n,T,nu,S0,K,r,Sigma0)\n",
        "totaltimeCondi = round((time.time() - starttime), 2)\n",
        "\n",
        "# Antithetic CondiMC\n",
        "starttime = time.time()\n",
        "AntCMC = AntCMC(h,m,n,T,nu,S0,K,r,Sigma0)\n",
        "totaltimeAnt = round((time.time() - starttime), 2)\n",
        "\n",
        "# Control Variate CrudeMC\n",
        "starttime = time.time()\n",
        "CrudeMCCVar = CrudeMCCVar(h,m,n,T,nu,S0,K,r,Sigma0,0)\n",
        "totaltimeCrudeMCCVar = round((time.time() - starttime), 2)\n",
        "\n",
        "data = [[np.mean(CrudeMC), np.mean(CondiMC), np.mean(AntCMC), np.mean(CrudeMCCVar)], \n",
        "        [np.std(CrudeMC), np.std(CondiMC), np.std(AntCMC), np.std(CrudeMCCVar)], \n",
        "        [totaltimeCrude, totaltimeCondi, totaltimeAnt, totaltimeCrudeMCCVar]]\n",
        "dfZero = pd.DataFrame(data, columns=['CrudeMC', 'ConditionalMC', 'AntitheticCMC', 'ControlVarMC'], \n",
        "                  index=['Mean','SD', 'Time'])\n",
        "dfZero\n"
      ],
      "metadata": {
        "id": "4rtsAIjUYDwq"
      },
      "execution_count": null,
      "outputs": []
    },
    {
      "cell_type": "code",
      "source": [
        "# Rho != 0\n",
        "\n",
        "# Crude MC\n",
        "starttime = time.time()\n",
        "CrudeMC = CrudeMC(h,m,n,T,nu,S0,K,r,Sigma0,rho)\n",
        "totaltimeCrude = round((time.time() - starttime), 2)\n",
        "\n",
        "# Conditional MC\n",
        "starttime = time.time()\n",
        "CondiMC = ConditionalMCRho(h,m,n,T,nu,S0,K,r,Sigma0,rho)\n",
        "totaltimeCondi = round((time.time() - starttime), 2)\n",
        "\n",
        "# Antithetic CMC\n",
        "starttime = time.time()\n",
        "AntCMC = AntCMCRho(h,m,n,T,nu,S0,K,r,Sigma0,rho)\n",
        "totaltimeAnt = round((time.time() - starttime), 2)\n",
        "\n",
        "# Control Variate CrudeMC\n",
        "starttime = time.time()\n",
        "CrudeMCCVar = CrudeMCCVar(h,m,n,T,nu,S0,K,r,Sigma0,rho)\n",
        "totaltimeCrudeMCCVar = round((time.time() - starttime), 2)\n",
        "\n",
        "data = [[np.mean(CrudeMC), np.mean(CondiMC), np.mean(AntCMC), np.mean(CrudeMCCVar)], \n",
        "        [np.std(CrudeMC), np.std(CondiMC), np.std(AntCMC), np.std(CrudeMCCVar)], \n",
        "        [totaltimeCrude, totaltimeCondi, totaltimeAnt, totaltimeCrudeMCCVar]]\n",
        "df = pd.DataFrame(data, columns=['CrudeMC', 'ConditionalMC', 'AntitheticCMC', 'ControlVarMC'], \n",
        "                  index=['Mean','SD', 'Time'])\n",
        "df\n"
      ],
      "metadata": {
        "id": "u3T5x3WUYfGM"
      },
      "execution_count": null,
      "outputs": []
    },
    {
      "cell_type": "markdown",
      "source": [
        "**Pricing Fixed Strike Arithmetic Asian Options**"
      ],
      "metadata": {
        "id": "GDGW1OGkZCtv"
      }
    },
    {
      "cell_type": "markdown",
      "source": [
        "Crude Monte Carlo"
      ],
      "metadata": {
        "id": "YjodmpksZK18"
      }
    },
    {
      "cell_type": "code",
      "source": [
        "def AsianOptCrude(h,m,n,T,S0,K,r,Sigma0):\n",
        "    vMeanPayoffs = np.zeros([h])\n",
        "    for p in range(0,h):\n",
        "        mSt = np.zeros([m,n+1])\n",
        "        # Simulate stock prices m times for n steps\n",
        "        for j in range(0,m):\n",
        "            mSt[j,0] = S0\n",
        "            vZ = np.random.normal(0,1,n)\n",
        "            for i in range(0,n):\n",
        "                mSt[j,i+1] = mSt[j,i]+mSt[j,i]*Sigma0*vZ[i]*np.sqrt(T/n)\n",
        "        # Calculate mean and payoff of each sim\n",
        "        vMeanSim = np.zeros([m])\n",
        "        vPayoffs = np.zeros([m])\n",
        "        for j in range(0,m):\n",
        "            vMeanSim[j] = np.mean(mSt[j,])\n",
        "            vPayoffs[j] = max(vMeanSim[j]-K, 0)\n",
        "        # Take mean of all payoffs\n",
        "        vMeanPayoffs[p] = np.mean(vPayoffs)     \n",
        "    return(vMeanPayoffs)"
      ],
      "metadata": {
        "id": "_p1qv1CQYfFU"
      },
      "execution_count": null,
      "outputs": []
    },
    {
      "cell_type": "markdown",
      "source": [
        "Crude Monte Carlo with Antithetic Variates "
      ],
      "metadata": {
        "id": "Xm1rc6d0Zl3K"
      }
    },
    {
      "cell_type": "code",
      "source": [
        "def AsianOptAntithetic(h,m,n,T,S0,K,r,Sigma0):\n",
        "    dMeanPayoffs = np.zeros([h])\n",
        "    dMeanPayoffs_minus = np.zeros([h])\n",
        "    dAsianAntithetic = np.zeros([h])\n",
        "    for p in range(0,h):\n",
        "        mSt = np.zeros([m,n+1])\n",
        "        mSt_minus = np.zeros([m,n+1])\n",
        "        # Simulate stock prices m times for n steps\n",
        "        for j in range(0,m):\n",
        "            mSt[j,0] = S0\n",
        "            mSt_minus[j,0] = S0\n",
        "            vZ = np.random.normal(0,1,n)\n",
        "            vZ_minus = -vZ\n",
        "            for i in range(0,n):\n",
        "                mSt[j,i+1] = mSt[j,i]+mSt[j,i]*Sigma0*vZ[i]*np.sqrt(T/n)\n",
        "                mSt_minus[j,i+1] = mSt_minus[j,i]+mSt_minus[j,i]*Sigma0*vZ_minus[i]*np.sqrt(T/n)\n",
        "        # Calculate mean and payoff of each sim\n",
        "        vMeanSim = np.zeros([m])\n",
        "        vPayoffs = np.zeros([m])\n",
        "        vMeanSim_minus = np.zeros([m])\n",
        "        vPayoffs_minus = np.zeros([m])\n",
        "        for j in range(0,m):\n",
        "            vMeanSim[j] = np.mean(mSt[j,])\n",
        "            vMeanSim_minus[j] = np.mean(mSt_minus[j,])\n",
        "            vPayoffs[j] = max(vMeanSim[j]-K, 0)\n",
        "            vPayoffs_minus[j] = max(vMeanSim_minus[j]-K, 0)\n",
        "        # Take mean of all payoffs\n",
        "        dMeanPayoffs[p] = np.mean(vPayoffs)\n",
        "        dMeanPayoffs_minus[p] = np.mean(vPayoffs_minus)\n",
        "        dAsianAntithetic[p] =  (dMeanPayoffs[p] + dMeanPayoffs_minus[p])/2 \n",
        "    return(dAsianAntithetic)"
      ],
      "metadata": {
        "id": "sQpFdKiqZtae"
      },
      "execution_count": null,
      "outputs": []
    },
    {
      "cell_type": "markdown",
      "source": [
        "Crude Monte Carlo with Control Variates"
      ],
      "metadata": {
        "id": "8RkPSGrNZyPi"
      }
    },
    {
      "cell_type": "code",
      "source": [
        "def AsianOptControl(h,m,n,T,S0,K,r,Sigma0):\n",
        "    vAsianMCControl = np.zeros([h])\n",
        "    SigmaA = Sigma0/np.sqrt(3)\n",
        "    d1 = (np.log(S0/K)+((1/2)*SigmaA)*T)/(SigmaA*T)\n",
        "    d2 = d1 - SigmaA*T\n",
        "    iGt = S0*ss.norm.cdf(d1) - K*ss.norm.cdf(d2) #E(Z)\n",
        "    for p in range(0,h):\n",
        "        mSt = np.zeros([m,n+1])\n",
        "        # Simulate stock prices m times for n steps\n",
        "        for j in range(0,m):\n",
        "            mSt[j,0] = S0\n",
        "            vZ = np.random.normal(0,1,n)\n",
        "            for i in range(0,n):\n",
        "                mSt[j,i+1] = mSt[j,i]+mSt[j,i]*Sigma0*vZ[i]*np.sqrt(T/n)\n",
        "        vGeoMean =np.zeros([m])\n",
        "        vGeoPayoffs = np.zeros([m])\n",
        "        vArithMean = np.zeros([m])\n",
        "        vArithPayoffs = np.zeros([m])\n",
        "        for j in range(0,m):\n",
        "            vGeoMean[j] = ss.gmean(mSt[j,])\n",
        "            vGeoPayoffs[j] = max(vGeoMean[j]-K, 0) #Z\n",
        "            vArithMean[j] = np.mean(mSt[j,])\n",
        "            vArithPayoffs[j] = max(vArithMean[j]-K, 0) #Y\n",
        "        iCov = -np.cov(vArithPayoffs,vGeoPayoffs)[0][1]/np.var(vGeoPayoffs)\n",
        "        vAsianMCControl[p] = np.mean(vArithPayoffs+iCov*(vGeoPayoffs - iGt))\n",
        "    return(vAsianMCControl)"
      ],
      "metadata": {
        "id": "NRflIe05Z2ZX"
      },
      "execution_count": null,
      "outputs": []
    },
    {
      "cell_type": "markdown",
      "source": [
        "Create Dataframe to Store Results"
      ],
      "metadata": {
        "id": "ypYriQw7Z6Eb"
      }
    },
    {
      "cell_type": "code",
      "source": [
        "starttime = time.time()\n",
        "AsianOptCrude = AsianOptCrude(50,100,100,1,100,80,0,0.4)\n",
        "totaltimeAsianOptCrude = round((time.time() - starttime), 2)\n",
        "\n",
        "starttime = time.time()\n",
        "AsianOptAntithetic = AsianOptAntithetic(50,100,100,1,100,80,0,0.4)\n",
        "totaltimeAsianOptAntithetic = round((time.time() - starttime), 2)\n",
        "\n",
        "starttime = time.time()\n",
        "AsianOptControl = AsianOptControl(50,100,100,1,100,80,0,0.4)\n",
        "totaltimeAsianOptControl = round((time.time() - starttime), 2)\n",
        "\n",
        "data = [[np.mean(AsianOptCrude), np.mean(AsianOptAntithetic), np.mean(AsianOptControl)], \n",
        "        [np.std(AsianOptCrude), np.std(AsianOptAntithetic), np.std(AsianOptControl)], \n",
        "        [totaltimeAsianOptCrude, totaltimeAsianOptAntithetic, totaltimeAsianOptControl]]\n",
        "df = pd.DataFrame(data, columns=['Crude', 'Antithetic Variate', 'Control Variate'], \n",
        "                  index=['Mean','SD', 'Time'])\n",
        "df"
      ],
      "metadata": {
        "id": "W4uUyudJaF3t"
      },
      "execution_count": null,
      "outputs": []
    }
  ]
}